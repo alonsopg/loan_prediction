{
 "cells": [
  {
   "cell_type": "markdown",
   "metadata": {},
   "source": [
    "# Predicción de prestamos bancarios con Gradient Tree Boosting\n",
    "\n",
    "El [aprendizaje automático](https://es.wikipedia.org/wiki/Aprendizaje_autom%C3%A1tico) se está consolidando como un campo con un gran número de aplicaciones reales, que van de [sistemas de perfilado de autor en texto](https://github.com/alonsopg/AuthorProfiling) hasta detección de fraudes bancarios, o de sistemas capaces de detectar cáncer a sistemas que pueden estimar el riesgo de un seguro.\n",
    "\n",
    "Otro dominio de aplicación del aprendizaje automático es la predicción de pago en prestamos personales:\n",
    "\n",
    "* Es común que los bancos realicen prestamos basados en los perfiles demograficos y socieconomicos de los solicitantes de creditos financieros. \n",
    "\n",
    "* Para minimizar la pérdida posibles perdidas monetarias, el banco necesita saber a quién darle la aprobación del préstamo y a quien no hacerlo. \n",
    "\n",
    "## Los datos\n",
    "\n",
    "El [German Credit Dataset](https://onlinecourses.science.psu.edu/stat857/node/215) contiene 20 variables para clasificar si un solicitante es buen o mal prospecto de credito financiero, la descripción del dataset puede ser encontrada en esta [liga](https://onlinecourses.science.psu.edu/stat857/node/222). Un modelo predictivo desarrollado a partir de estos datos será capaz de ayudarle a un banco decidir si debe aprobarle un prestamo a un solicitante dado su perfil.\n",
    "\n",
    "\n",
    "<img src=\"files/loan.png\"alt=\"Drawing\" style=\"width: 200px;\">\n",
    "\n",
    "## Boosting\n",
    "\n",
    "Muchos algoritmos como AdaBoost, LogitBoost, BrownBoost, XGboost usan una técnica llamada **boosting** para reducir el sesgo y la varianza en problemas de aprendizaje supervisado. En [Schapire, 1990](http://www.cs.princeton.edu/~schapire/papers/strengthofweak.pdf), se propone un proceso para convertir un estimador con bajo poder predictivo en un estimador con alto poder predictivo, mediante el uso de una metodología que se basa en iterativamente construir estimadores débiles respecto a una distribución, agregándolos a un clasificador final que tendrá un alto poder predictivo. En otras palabras, los estimadores débiles se construyen de forma secuencial y uno trata de reducir el sesgo del estimador combinado, es decir estamos combinando varios modelos débiles para producir un modelo más poderoso.\n",
    "\n",
    "<img src=\"files/adaboost.png\">\n",
    "\n",
    "\n",
    "\n",
    "Boosting también es una técnica de ensemble que consiste en una mezcla de expertos. A diferencia de modelos como RF, boosting aprende estos ensembles de manera secuencial, cada miembro de este ensemble esta basado en los errores de su ensemble predecesor. Por ejemplo AdaBoost iterativamente pondera los ejemplos de entrenamiento basado en sus errores anteriores, luego tomando en cuenta a su predecesor genera otro estimador hasta obtener un modelo final que consiste en la composición de las agregaciones pasadas.\n",
    "\n",
    "## XGboost: Gradient tree boosting en Python\n",
    "\n",
    "Para este ejemplo usaré la implementación de [Chen & Guestrin, 2016](https://arxiv.org/pdf/1603.02754v3.pdf). A grandes razgos, Gradient tree boosting es una técnica de [aprendizaje supervisado](https://es.wikipedia.org/wiki/Aprendizaje_supervisado) muy útil para resolver problemas de clasificación, regresión y rankeo, esta basado en árboles de desicion. Es una generalización de boosting para funciones de perdida diferenciales.\n",
    "\n",
    "Este algoritmo tiene propiedades interesantes, por ejemplo: \n",
    "\n",
    "1. Es capaz de manejar datos heterogéneos.\n",
    "\n",
    "2. Puede usarse con diversas funciones de perdida (loss functions, huber).\n",
    "\n",
    "3. Automáticamente detecta interacción no lineal de características (i.e. no hay que modelar interacción entre las caracteristicas a la hora de modelar un problema).\n",
    "\n",
    "4. Tiene buen rendimiento en varios conjuntos de datos (Es el algoritmo ganador de varias competencias prestigiosas [ACM/SIGKDD-CUP 2015](http://kddcup2015.com/information.html), [Kaggle](https://www.kaggle.com/competitions), [Netflix Price](https://en.wikipedia.org/wiki/Netflix_Prize), etc).\n",
    "\n",
    "## Solución \n",
    "\n",
    "[Usaré](http://alonsopg.com/) un ambiente de programación en python para resolver esta tarea de clasificación:"
   ]
  },
  {
   "cell_type": "code",
   "execution_count": 116,
   "metadata": {
    "collapsed": false
   },
   "outputs": [
    {
     "data": {
      "text/html": [
       "<div>\n",
       "<table border=\"1\" class=\"dataframe\">\n",
       "  <thead>\n",
       "    <tr style=\"text-align: right;\">\n",
       "      <th></th>\n",
       "      <th>Creditability</th>\n",
       "      <th>Account Balance</th>\n",
       "      <th>Duration of Credit (month)</th>\n",
       "      <th>Payment Status of Previous Credit</th>\n",
       "      <th>Purpose</th>\n",
       "      <th>Credit Amount</th>\n",
       "      <th>Value Savings/Stocks</th>\n",
       "      <th>Length of current employment</th>\n",
       "      <th>Instalment per cent</th>\n",
       "      <th>Sex_and_Marital_Status</th>\n",
       "      <th>...</th>\n",
       "      <th>Duration in Current address</th>\n",
       "      <th>Most valuable available asset</th>\n",
       "      <th>Age (years)</th>\n",
       "      <th>Concurrent Credits</th>\n",
       "      <th>Type of apartment</th>\n",
       "      <th>No of Credits at this Bank</th>\n",
       "      <th>Occupation</th>\n",
       "      <th>No of dependents</th>\n",
       "      <th>Telephone</th>\n",
       "      <th>Foreign Worker</th>\n",
       "    </tr>\n",
       "  </thead>\n",
       "  <tbody>\n",
       "    <tr>\n",
       "      <th>995</th>\n",
       "      <td>0</td>\n",
       "      <td>1</td>\n",
       "      <td>24</td>\n",
       "      <td>2</td>\n",
       "      <td>3</td>\n",
       "      <td>1987</td>\n",
       "      <td>1</td>\n",
       "      <td>3</td>\n",
       "      <td>2</td>\n",
       "      <td>3</td>\n",
       "      <td>...</td>\n",
       "      <td>4</td>\n",
       "      <td>1</td>\n",
       "      <td>21</td>\n",
       "      <td>3</td>\n",
       "      <td>1</td>\n",
       "      <td>1</td>\n",
       "      <td>2</td>\n",
       "      <td>2</td>\n",
       "      <td>1</td>\n",
       "      <td>1</td>\n",
       "    </tr>\n",
       "    <tr>\n",
       "      <th>996</th>\n",
       "      <td>0</td>\n",
       "      <td>1</td>\n",
       "      <td>24</td>\n",
       "      <td>2</td>\n",
       "      <td>0</td>\n",
       "      <td>2303</td>\n",
       "      <td>1</td>\n",
       "      <td>5</td>\n",
       "      <td>4</td>\n",
       "      <td>3</td>\n",
       "      <td>...</td>\n",
       "      <td>1</td>\n",
       "      <td>1</td>\n",
       "      <td>45</td>\n",
       "      <td>3</td>\n",
       "      <td>2</td>\n",
       "      <td>1</td>\n",
       "      <td>3</td>\n",
       "      <td>1</td>\n",
       "      <td>1</td>\n",
       "      <td>1</td>\n",
       "    </tr>\n",
       "    <tr>\n",
       "      <th>997</th>\n",
       "      <td>0</td>\n",
       "      <td>4</td>\n",
       "      <td>21</td>\n",
       "      <td>4</td>\n",
       "      <td>0</td>\n",
       "      <td>12680</td>\n",
       "      <td>5</td>\n",
       "      <td>5</td>\n",
       "      <td>4</td>\n",
       "      <td>3</td>\n",
       "      <td>...</td>\n",
       "      <td>4</td>\n",
       "      <td>4</td>\n",
       "      <td>30</td>\n",
       "      <td>3</td>\n",
       "      <td>3</td>\n",
       "      <td>1</td>\n",
       "      <td>4</td>\n",
       "      <td>1</td>\n",
       "      <td>2</td>\n",
       "      <td>1</td>\n",
       "    </tr>\n",
       "    <tr>\n",
       "      <th>998</th>\n",
       "      <td>0</td>\n",
       "      <td>2</td>\n",
       "      <td>12</td>\n",
       "      <td>2</td>\n",
       "      <td>3</td>\n",
       "      <td>6468</td>\n",
       "      <td>5</td>\n",
       "      <td>1</td>\n",
       "      <td>2</td>\n",
       "      <td>3</td>\n",
       "      <td>...</td>\n",
       "      <td>1</td>\n",
       "      <td>4</td>\n",
       "      <td>52</td>\n",
       "      <td>3</td>\n",
       "      <td>2</td>\n",
       "      <td>1</td>\n",
       "      <td>4</td>\n",
       "      <td>1</td>\n",
       "      <td>2</td>\n",
       "      <td>1</td>\n",
       "    </tr>\n",
       "    <tr>\n",
       "      <th>999</th>\n",
       "      <td>0</td>\n",
       "      <td>1</td>\n",
       "      <td>30</td>\n",
       "      <td>2</td>\n",
       "      <td>2</td>\n",
       "      <td>6350</td>\n",
       "      <td>5</td>\n",
       "      <td>5</td>\n",
       "      <td>4</td>\n",
       "      <td>3</td>\n",
       "      <td>...</td>\n",
       "      <td>4</td>\n",
       "      <td>2</td>\n",
       "      <td>31</td>\n",
       "      <td>3</td>\n",
       "      <td>2</td>\n",
       "      <td>1</td>\n",
       "      <td>3</td>\n",
       "      <td>1</td>\n",
       "      <td>1</td>\n",
       "      <td>1</td>\n",
       "    </tr>\n",
       "  </tbody>\n",
       "</table>\n",
       "<p>5 rows × 21 columns</p>\n",
       "</div>"
      ],
      "text/plain": [
       "     Creditability  Account Balance  Duration of Credit (month)  \\\n",
       "995              0                1                          24   \n",
       "996              0                1                          24   \n",
       "997              0                4                          21   \n",
       "998              0                2                          12   \n",
       "999              0                1                          30   \n",
       "\n",
       "     Payment Status of Previous Credit  Purpose  Credit Amount  \\\n",
       "995                                  2        3           1987   \n",
       "996                                  2        0           2303   \n",
       "997                                  4        0          12680   \n",
       "998                                  2        3           6468   \n",
       "999                                  2        2           6350   \n",
       "\n",
       "     Value Savings/Stocks  Length of current employment  Instalment per cent  \\\n",
       "995                     1                             3                    2   \n",
       "996                     1                             5                    4   \n",
       "997                     5                             5                    4   \n",
       "998                     5                             1                    2   \n",
       "999                     5                             5                    4   \n",
       "\n",
       "     Sex_and_Marital_Status       ...        Duration in Current address  \\\n",
       "995                       3       ...                                  4   \n",
       "996                       3       ...                                  1   \n",
       "997                       3       ...                                  4   \n",
       "998                       3       ...                                  1   \n",
       "999                       3       ...                                  4   \n",
       "\n",
       "     Most valuable available asset  Age (years)  Concurrent Credits  \\\n",
       "995                              1           21                   3   \n",
       "996                              1           45                   3   \n",
       "997                              4           30                   3   \n",
       "998                              4           52                   3   \n",
       "999                              2           31                   3   \n",
       "\n",
       "     Type of apartment  No of Credits at this Bank  Occupation  \\\n",
       "995                  1                           1           2   \n",
       "996                  2                           1           3   \n",
       "997                  3                           1           4   \n",
       "998                  2                           1           4   \n",
       "999                  2                           1           3   \n",
       "\n",
       "     No of dependents  Telephone  Foreign Worker  \n",
       "995                 2          1               1  \n",
       "996                 1          1               1  \n",
       "997                 1          2               1  \n",
       "998                 1          2               1  \n",
       "999                 1          1               1  \n",
       "\n",
       "[5 rows x 21 columns]"
      ]
     },
     "execution_count": 116,
     "metadata": {},
     "output_type": "execute_result"
    }
   ],
   "source": [
    "import pandas as pd\n",
    "import numpy as np\n",
    "%matplotlib inline\n",
    "# Por reproductibilidad lo fijamos a \n",
    "np.random.seed(1337)\n",
    "\n",
    "df = pd.read_csv('/Users/user/Downloads/german_credit.csv')\n",
    "df.tail()"
   ]
  },
  {
   "cell_type": "code",
   "execution_count": 117,
   "metadata": {
    "collapsed": false
   },
   "outputs": [
    {
     "name": "stdout",
     "output_type": "stream",
     "text": [
      "Largo, ancho:\n",
      " (1000, 21)\n",
      "\n",
      "Columnas:\n",
      " Index(['Creditability', 'Account Balance', 'Duration of Credit (month)',\n",
      "       'Payment Status of Previous Credit', 'Purpose', 'Credit Amount',\n",
      "       'Value Savings/Stocks', 'Length of current employment',\n",
      "       'Instalment per cent', 'Sex_and_Marital_Status', 'Guarantors',\n",
      "       'Duration in Current address', 'Most valuable available asset',\n",
      "       'Age (years)', 'Concurrent Credits', 'Type of apartment',\n",
      "       'No of Credits at this Bank', 'Occupation', 'No of dependents',\n",
      "       'Telephone', 'Foreign Worker'],\n",
      "      dtype='object')\n"
     ]
    }
   ],
   "source": [
    "print('Largo, ancho:\\n',df.shape)\n",
    "print('\\nColumnas:\\n',df.columns)"
   ]
  },
  {
   "cell_type": "code",
   "execution_count": 118,
   "metadata": {
    "collapsed": false
   },
   "outputs": [
    {
     "data": {
      "text/plain": [
       "Creditability                        0\n",
       "Account Balance                      0\n",
       "Duration of Credit (month)           0\n",
       "Payment Status of Previous Credit    0\n",
       "Purpose                              0\n",
       "Credit Amount                        0\n",
       "Value Savings/Stocks                 0\n",
       "Length of current employment         0\n",
       "Instalment per cent                  0\n",
       "Sex_and_Marital_Status               0\n",
       "Guarantors                           0\n",
       "Duration in Current address          0\n",
       "Most valuable available asset        0\n",
       "Age (years)                          0\n",
       "Concurrent Credits                   0\n",
       "Type of apartment                    0\n",
       "No of Credits at this Bank           0\n",
       "Occupation                           0\n",
       "No of dependents                     0\n",
       "Telephone                            0\n",
       "Foreign Worker                       0\n",
       "dtype: int64"
      ]
     },
     "execution_count": 118,
     "metadata": {},
     "output_type": "execute_result"
    }
   ],
   "source": [
    "#Hay valores nulos o faltantes?\n",
    "df.apply(lambda x: sum(x.isnull()))"
   ]
  },
  {
   "cell_type": "code",
   "execution_count": 119,
   "metadata": {
    "collapsed": false
   },
   "outputs": [],
   "source": [
    "X = df.drop(\"Creditability\", axis=1).values\n",
    "y = df.Creditability.values"
   ]
  },
  {
   "cell_type": "code",
   "execution_count": 120,
   "metadata": {
    "collapsed": false
   },
   "outputs": [
    {
     "data": {
      "text/plain": [
       "array([[ 1, 18,  4, ...,  1,  1,  1],\n",
       "       [ 1,  9,  4, ...,  2,  1,  1],\n",
       "       [ 2, 12,  2, ...,  1,  1,  1],\n",
       "       ..., \n",
       "       [ 4, 21,  4, ...,  1,  2,  1],\n",
       "       [ 2, 12,  2, ...,  1,  2,  1],\n",
       "       [ 1, 30,  2, ...,  1,  1,  1]])"
      ]
     },
     "execution_count": 120,
     "metadata": {},
     "output_type": "execute_result"
    }
   ],
   "source": [
    "X"
   ]
  },
  {
   "cell_type": "code",
   "execution_count": 121,
   "metadata": {
    "collapsed": false
   },
   "outputs": [],
   "source": [
    "#labels\n",
    "#y"
   ]
  },
  {
   "cell_type": "code",
   "execution_count": 122,
   "metadata": {
    "collapsed": false
   },
   "outputs": [
    {
     "data": {
      "text/plain": [
       "(1000, 2154)"
      ]
     },
     "execution_count": 122,
     "metadata": {},
     "output_type": "execute_result"
    }
   ],
   "source": [
    "from sklearn.preprocessing import OneHotEncoder, StandardScaler\n",
    "from sklearn.pipeline import make_pipeline, FeatureUnion, Pipeline\n",
    "from sklearn.cross_validation import cross_val_score, train_test_split\n",
    "from xgboost import XGBClassifier\n",
    "\n",
    "scaler = StandardScaler()\n",
    "encoder = OneHotEncoder()\n",
    "\n",
    "X_feats = encoder.fit_transform(X)\n",
    "\n",
    "X_scaled_feats = encoder.fit_transform(X_feats.A)\n",
    "X_scaled_feats.A.shape"
   ]
  },
  {
   "cell_type": "markdown",
   "metadata": {},
   "source": [
    "## Evaluación del modelo\n",
    "\n",
    "Para evaluar al modelo usaremos las siguientes métricas:\n",
    "\n",
    "<img src=\"files/metrics.png\" style=\"width: 700px;\"> \n"
   ]
  },
  {
   "cell_type": "markdown",
   "metadata": {},
   "source": [
    "### Creamos una funcion de predicción con validación cruzada"
   ]
  },
  {
   "cell_type": "code",
   "execution_count": 123,
   "metadata": {
    "collapsed": false
   },
   "outputs": [],
   "source": [
    "from sklearn.preprocessing import StandardScaler\n",
    "from sklearn.pipeline import Pipeline\n",
    "from xgboost import XGBClassifier\n",
    "from sklearn.cross_validation import train_test_split\n",
    "from sklearn.cross_validation import StratifiedKFold, cross_val_score\n",
    "from sklearn.metrics import accuracy_score,\\\n",
    "precision_score, f1_score, recall_score, confusion_matrix\n",
    "\n",
    "def perform_classification(features,labels):\n",
    "    '''\n",
    "    Recibe una matriz de caracteristicas con sus respectivas etiquetas\n",
    "    Regresa la exactitud total sobre los datos de prueba\n",
    "    Regresa la exactitud para cada pliegue de la validación cruzada,\n",
    "    guardando la proporcion de la clase para cada fold o pliegue\n",
    "    Regresa metricas de validacion cruzada generales.\n",
    "    '''\n",
    "    \n",
    "    X_train, X_test, y_train, y_test = \\\n",
    "    train_test_split(features, labels, test_size=0.20, random_state=False)\n",
    "    \n",
    "    pipe = make_pipeline(XGBClassifier())\n",
    "    pipe.fit(X_train, y_train)\n",
    "    print('Exactitud', pipe.score(X_test, y_test))\n",
    "\n",
    "    #Guardamos las predicciones en una variable, aqui estan las etiquetas que se predijeron\n",
    "    y_pred = pipe.predict(X_test)\n",
    "    kfold = StratifiedKFold(y=y_train, n_folds=10, random_state=1)\n",
    "    scores = []\n",
    "    for i, (train, test) in enumerate(kfold):\n",
    "        pipe.fit(X_train[train], y_train[train])\n",
    "        score = pipe.score(X_train[test], y_train[test])\n",
    "        scores.append(score)\n",
    "        print('Fold: %s, distribucion de la clase: %s, Acc: %.3f' % (i+1,\n",
    "                                                        np.bincount(y_train[train]), score))\n",
    "        #Tambien lo podemos hacer con otras metricas que se usan comunmente en probs de claf\n",
    "        \n",
    "        #print('Presicion', precision_score(y_test, y_pred,))\n",
    "        #print('f1', f1_score(y_test, y_pred,))\n",
    "        #print('recall', recall_score(y_test, y_pred))\n",
    "\n",
    "    print('\\nCV accuracy:',np.mean(cross_val_score(\n",
    "            pipe,X_train, y_train, cv=10, scoring='accuracy')))\n",
    "    print('\\nCV f1-score:',np.mean(cross_val_score(\n",
    "            pipe,X_train, y_train, cv=10, scoring='f1')))\n",
    "    print('\\nCV presicion:',np.mean(cross_val_score(\n",
    "            pipe,X_train, y_train, cv=10, scoring='precision')))\n",
    "    print('\\nCV recall:',np.mean(cross_val_score(\n",
    "            pipe,X_train, y_train, cv=10, scoring='recall')))\n"
   ]
  },
  {
   "cell_type": "code",
   "execution_count": 124,
   "metadata": {
    "collapsed": false
   },
   "outputs": [
    {
     "name": "stdout",
     "output_type": "stream",
     "text": [
      "Exactitud 0.75\n",
      "Fold: 1, distribucion de la clase: [208 511], Acc: 0.716\n",
      "Fold: 2, distribucion de la clase: [208 511], Acc: 0.691\n",
      "Fold: 3, distribucion de la clase: [209 511], Acc: 0.838\n",
      "Fold: 4, distribucion de la clase: [209 511], Acc: 0.750\n",
      "Fold: 5, distribucion de la clase: [209 511], Acc: 0.725\n",
      "Fold: 6, distribucion de la clase: [209 511], Acc: 0.750\n",
      "Fold: 7, distribucion de la clase: [209 511], Acc: 0.738\n",
      "Fold: 8, distribucion de la clase: [209 511], Acc: 0.775\n",
      "Fold: 9, distribucion de la clase: [209 512], Acc: 0.734\n",
      "Fold: 10, distribucion de la clase: [209 512], Acc: 0.759\n",
      "\n",
      "CV accuracy: 0.747607829348\n",
      "\n",
      "CV f1-score: 0.834171379898\n",
      "\n",
      "CV presicion: 0.781742278528\n",
      "\n",
      "CV recall: 0.896146616541\n"
     ]
    }
   ],
   "source": [
    "#Lo podemos hacer sobre los datos una vez que se encuentran estandarizados y a la misma escala\n",
    "perform_classification(X_scaled_feats, y)"
   ]
  },
  {
   "cell_type": "code",
   "execution_count": 125,
   "metadata": {
    "collapsed": false
   },
   "outputs": [
    {
     "name": "stdout",
     "output_type": "stream",
     "text": [
      "Exactitud 0.81\n",
      "Fold: 1, distribucion de la clase: [208 511], Acc: 0.765\n",
      "Fold: 2, distribucion de la clase: [208 511], Acc: 0.716\n",
      "Fold: 3, distribucion de la clase: [209 511], Acc: 0.838\n",
      "Fold: 4, distribucion de la clase: [209 511], Acc: 0.762\n",
      "Fold: 5, distribucion de la clase: [209 511], Acc: 0.662\n",
      "Fold: 6, distribucion de la clase: [209 511], Acc: 0.750\n",
      "Fold: 7, distribucion de la clase: [209 511], Acc: 0.738\n",
      "Fold: 8, distribucion de la clase: [209 511], Acc: 0.775\n",
      "Fold: 9, distribucion de la clase: [209 512], Acc: 0.810\n",
      "Fold: 10, distribucion de la clase: [209 512], Acc: 0.835\n",
      "\n",
      "CV accuracy: 0.765205110173\n",
      "\n",
      "CV f1-score: 0.844756964156\n",
      "\n",
      "CV presicion: 0.79636111848\n",
      "\n",
      "CV recall: 0.901503759398\n"
     ]
    }
   ],
   "source": [
    "# O sin escalarlos, ya que en teoria GTBM puede manejar datos heterogeneos\n",
    "perform_classification(X, y)"
   ]
  },
  {
   "cell_type": "markdown",
   "metadata": {
    "collapsed": true
   },
   "source": [
    "## Diseño de características (features)"
   ]
  },
  {
   "cell_type": "code",
   "execution_count": 126,
   "metadata": {
    "collapsed": false
   },
   "outputs": [
    {
     "data": {
      "text/html": [
       "<div>\n",
       "<table border=\"1\" class=\"dataframe\">\n",
       "  <thead>\n",
       "    <tr style=\"text-align: right;\">\n",
       "      <th></th>\n",
       "      <th>Creditability</th>\n",
       "      <th>Sex_and_Marital_Status</th>\n",
       "    </tr>\n",
       "  </thead>\n",
       "  <tbody>\n",
       "    <tr>\n",
       "      <th>995</th>\n",
       "      <td>0</td>\n",
       "      <td>3</td>\n",
       "    </tr>\n",
       "    <tr>\n",
       "      <th>996</th>\n",
       "      <td>0</td>\n",
       "      <td>3</td>\n",
       "    </tr>\n",
       "    <tr>\n",
       "      <th>997</th>\n",
       "      <td>0</td>\n",
       "      <td>3</td>\n",
       "    </tr>\n",
       "    <tr>\n",
       "      <th>998</th>\n",
       "      <td>0</td>\n",
       "      <td>3</td>\n",
       "    </tr>\n",
       "    <tr>\n",
       "      <th>999</th>\n",
       "      <td>0</td>\n",
       "      <td>3</td>\n",
       "    </tr>\n",
       "  </tbody>\n",
       "</table>\n",
       "</div>"
      ],
      "text/plain": [
       "     Creditability  Sex_and_Marital_Status\n",
       "995              0                       3\n",
       "996              0                       3\n",
       "997              0                       3\n",
       "998              0                       3\n",
       "999              0                       3"
      ]
     },
     "execution_count": 126,
     "metadata": {},
     "output_type": "execute_result"
    }
   ],
   "source": [
    "df2 = df[['Creditability', 'Sex_and_Marital_Status']]\n",
    "df2.tail()"
   ]
  },
  {
   "cell_type": "code",
   "execution_count": 127,
   "metadata": {
    "collapsed": false
   },
   "outputs": [
    {
     "name": "stdout",
     "output_type": "stream",
     "text": [
      "(300, 2)\n"
     ]
    }
   ],
   "source": [
    "#Selecciona los que si pagan\n",
    "si_pagan = df2[df2.Creditability == 0]\n",
    "print(si_pagan.shape)\n",
    "#si_pagan.tail()"
   ]
  },
  {
   "cell_type": "code",
   "execution_count": 128,
   "metadata": {
    "collapsed": false
   },
   "outputs": [
    {
     "name": "stdout",
     "output_type": "stream",
     "text": [
      "(700, 2)\n"
     ]
    }
   ],
   "source": [
    "#Selecciona los que no pagan\n",
    "no_pagan = df2[df2.Creditability == 1]\n",
    "#Cuantos son los que no pagan?\n",
    "print(no_pagan.shape)\n",
    "#no_pagan.tail()"
   ]
  },
  {
   "cell_type": "code",
   "execution_count": 129,
   "metadata": {
    "collapsed": false
   },
   "outputs": [
    {
     "data": {
      "text/html": [
       "<div>\n",
       "<table border=\"1\" class=\"dataframe\">\n",
       "  <thead>\n",
       "    <tr style=\"text-align: right;\">\n",
       "      <th></th>\n",
       "      <th>Creditability</th>\n",
       "    </tr>\n",
       "    <tr>\n",
       "      <th>Sex_and_Marital_Status</th>\n",
       "      <th></th>\n",
       "    </tr>\n",
       "  </thead>\n",
       "  <tbody>\n",
       "    <tr>\n",
       "      <th>1</th>\n",
       "      <td>30</td>\n",
       "    </tr>\n",
       "    <tr>\n",
       "      <th>2</th>\n",
       "      <td>201</td>\n",
       "    </tr>\n",
       "    <tr>\n",
       "      <th>3</th>\n",
       "      <td>402</td>\n",
       "    </tr>\n",
       "    <tr>\n",
       "      <th>4</th>\n",
       "      <td>67</td>\n",
       "    </tr>\n",
       "  </tbody>\n",
       "</table>\n",
       "</div>"
      ],
      "text/plain": [
       "                        Creditability\n",
       "Sex_and_Marital_Status               \n",
       "1                                  30\n",
       "2                                 201\n",
       "3                                 402\n",
       "4                                  67"
      ]
     },
     "execution_count": 129,
     "metadata": {},
     "output_type": "execute_result"
    }
   ],
   "source": [
    "#regreso la frecuencia de la gente que no paga, a partir de eso haré un feature\n",
    "no_pagan.groupby('Sex_and_Marital_Status').count()\n",
    "#Ok los que menos pagan son los que tienen numero 3 y 2, voy a llenar con 1 todos los que tengan 3 y 2"
   ]
  },
  {
   "cell_type": "code",
   "execution_count": 130,
   "metadata": {
    "collapsed": false
   },
   "outputs": [
    {
     "data": {
      "text/plain": [
       "<matplotlib.axes._subplots.AxesSubplot at 0x10924ac18>"
      ]
     },
     "execution_count": 130,
     "metadata": {},
     "output_type": "execute_result"
    },
    {
     "data": {
      "image/png": "[encoded data removed]",
      "text/plain": [
       "<matplotlib.figure.Figure at 0x108df8b00>"
      ]
     },
     "metadata": {},
     "output_type": "display_data"
    }
   ],
   "source": [
    "#o bien podemos hacer un grafico de barras\n",
    "# con el parametro kind lo cambiamos facilmente\n",
    "no_pagan.groupby('Sex_and_Marital_Status').count().plot(kind='bar')"
   ]
  },
  {
   "cell_type": "code",
   "execution_count": 131,
   "metadata": {
    "collapsed": true
   },
   "outputs": [],
   "source": [
    "#agregare un feature de generos riesgosos, en la tabla anterior podemos ver que \n",
    "#los clientes que tienen menos creditabilidad estan concentrados en el genero\n",
    "#que tiene como clave, llave, o id un 3\n",
    "\n",
    "#df['genero_Riesgoso?'] = np.where(df['Sex_and_Marital_Status']==3,'si','no')\n",
    "#lo mismo puede hacerse para el proposito, detectar los propositos\n",
    "#de prestamo peligrosos (i.e. que tipo prestamos son los que menos paga la gente )\n",
    "df['genero_Riesgoso?'] = np.where(df['Sex_and_Marital_Status']==3,'1','0')"
   ]
  },
  {
   "cell_type": "code",
   "execution_count": 132,
   "metadata": {
    "collapsed": true
   },
   "outputs": [],
   "source": [
    "#lo guardamos en un nuevo csv por si queremos usarlo despues\n",
    "df.to_csv('/Users/user/Desktop/datos_con_nueva_col.csv', index=False)"
   ]
  },
  {
   "cell_type": "code",
   "execution_count": 133,
   "metadata": {
    "collapsed": false
   },
   "outputs": [
    {
     "data": {
      "text/html": [
       "<div>\n",
       "<table border=\"1\" class=\"dataframe\">\n",
       "  <thead>\n",
       "    <tr style=\"text-align: right;\">\n",
       "      <th></th>\n",
       "      <th>Creditability</th>\n",
       "      <th>Sex_and_Marital_Status</th>\n",
       "      <th>genero_Riesgoso?</th>\n",
       "    </tr>\n",
       "  </thead>\n",
       "  <tbody>\n",
       "    <tr>\n",
       "      <th>0</th>\n",
       "      <td>1</td>\n",
       "      <td>2</td>\n",
       "      <td>0</td>\n",
       "    </tr>\n",
       "    <tr>\n",
       "      <th>1</th>\n",
       "      <td>1</td>\n",
       "      <td>3</td>\n",
       "      <td>1</td>\n",
       "    </tr>\n",
       "    <tr>\n",
       "      <th>2</th>\n",
       "      <td>1</td>\n",
       "      <td>2</td>\n",
       "      <td>0</td>\n",
       "    </tr>\n",
       "    <tr>\n",
       "      <th>3</th>\n",
       "      <td>1</td>\n",
       "      <td>3</td>\n",
       "      <td>1</td>\n",
       "    </tr>\n",
       "    <tr>\n",
       "      <th>4</th>\n",
       "      <td>1</td>\n",
       "      <td>3</td>\n",
       "      <td>1</td>\n",
       "    </tr>\n",
       "    <tr>\n",
       "      <th>5</th>\n",
       "      <td>1</td>\n",
       "      <td>3</td>\n",
       "      <td>1</td>\n",
       "    </tr>\n",
       "    <tr>\n",
       "      <th>6</th>\n",
       "      <td>1</td>\n",
       "      <td>3</td>\n",
       "      <td>1</td>\n",
       "    </tr>\n",
       "    <tr>\n",
       "      <th>7</th>\n",
       "      <td>1</td>\n",
       "      <td>3</td>\n",
       "      <td>1</td>\n",
       "    </tr>\n",
       "    <tr>\n",
       "      <th>8</th>\n",
       "      <td>1</td>\n",
       "      <td>2</td>\n",
       "      <td>0</td>\n",
       "    </tr>\n",
       "    <tr>\n",
       "      <th>9</th>\n",
       "      <td>1</td>\n",
       "      <td>2</td>\n",
       "      <td>0</td>\n",
       "    </tr>\n",
       "    <tr>\n",
       "      <th>10</th>\n",
       "      <td>1</td>\n",
       "      <td>3</td>\n",
       "      <td>1</td>\n",
       "    </tr>\n",
       "    <tr>\n",
       "      <th>11</th>\n",
       "      <td>1</td>\n",
       "      <td>4</td>\n",
       "      <td>0</td>\n",
       "    </tr>\n",
       "    <tr>\n",
       "      <th>12</th>\n",
       "      <td>1</td>\n",
       "      <td>2</td>\n",
       "      <td>0</td>\n",
       "    </tr>\n",
       "    <tr>\n",
       "      <th>13</th>\n",
       "      <td>1</td>\n",
       "      <td>3</td>\n",
       "      <td>1</td>\n",
       "    </tr>\n",
       "    <tr>\n",
       "      <th>14</th>\n",
       "      <td>1</td>\n",
       "      <td>4</td>\n",
       "      <td>0</td>\n",
       "    </tr>\n",
       "    <tr>\n",
       "      <th>15</th>\n",
       "      <td>1</td>\n",
       "      <td>3</td>\n",
       "      <td>1</td>\n",
       "    </tr>\n",
       "    <tr>\n",
       "      <th>16</th>\n",
       "      <td>1</td>\n",
       "      <td>3</td>\n",
       "      <td>1</td>\n",
       "    </tr>\n",
       "    <tr>\n",
       "      <th>17</th>\n",
       "      <td>1</td>\n",
       "      <td>4</td>\n",
       "      <td>0</td>\n",
       "    </tr>\n",
       "    <tr>\n",
       "      <th>18</th>\n",
       "      <td>1</td>\n",
       "      <td>3</td>\n",
       "      <td>1</td>\n",
       "    </tr>\n",
       "    <tr>\n",
       "      <th>19</th>\n",
       "      <td>1</td>\n",
       "      <td>3</td>\n",
       "      <td>1</td>\n",
       "    </tr>\n",
       "    <tr>\n",
       "      <th>20</th>\n",
       "      <td>1</td>\n",
       "      <td>3</td>\n",
       "      <td>1</td>\n",
       "    </tr>\n",
       "    <tr>\n",
       "      <th>21</th>\n",
       "      <td>1</td>\n",
       "      <td>3</td>\n",
       "      <td>1</td>\n",
       "    </tr>\n",
       "    <tr>\n",
       "      <th>22</th>\n",
       "      <td>0</td>\n",
       "      <td>3</td>\n",
       "      <td>1</td>\n",
       "    </tr>\n",
       "    <tr>\n",
       "      <th>23</th>\n",
       "      <td>1</td>\n",
       "      <td>3</td>\n",
       "      <td>1</td>\n",
       "    </tr>\n",
       "    <tr>\n",
       "      <th>24</th>\n",
       "      <td>1</td>\n",
       "      <td>3</td>\n",
       "      <td>1</td>\n",
       "    </tr>\n",
       "    <tr>\n",
       "      <th>25</th>\n",
       "      <td>1</td>\n",
       "      <td>3</td>\n",
       "      <td>1</td>\n",
       "    </tr>\n",
       "    <tr>\n",
       "      <th>26</th>\n",
       "      <td>1</td>\n",
       "      <td>2</td>\n",
       "      <td>0</td>\n",
       "    </tr>\n",
       "    <tr>\n",
       "      <th>27</th>\n",
       "      <td>1</td>\n",
       "      <td>3</td>\n",
       "      <td>1</td>\n",
       "    </tr>\n",
       "    <tr>\n",
       "      <th>28</th>\n",
       "      <td>1</td>\n",
       "      <td>3</td>\n",
       "      <td>1</td>\n",
       "    </tr>\n",
       "    <tr>\n",
       "      <th>29</th>\n",
       "      <td>1</td>\n",
       "      <td>3</td>\n",
       "      <td>1</td>\n",
       "    </tr>\n",
       "    <tr>\n",
       "      <th>...</th>\n",
       "      <td>...</td>\n",
       "      <td>...</td>\n",
       "      <td>...</td>\n",
       "    </tr>\n",
       "    <tr>\n",
       "      <th>970</th>\n",
       "      <td>0</td>\n",
       "      <td>3</td>\n",
       "      <td>1</td>\n",
       "    </tr>\n",
       "    <tr>\n",
       "      <th>971</th>\n",
       "      <td>0</td>\n",
       "      <td>2</td>\n",
       "      <td>0</td>\n",
       "    </tr>\n",
       "    <tr>\n",
       "      <th>972</th>\n",
       "      <td>0</td>\n",
       "      <td>3</td>\n",
       "      <td>1</td>\n",
       "    </tr>\n",
       "    <tr>\n",
       "      <th>973</th>\n",
       "      <td>0</td>\n",
       "      <td>3</td>\n",
       "      <td>1</td>\n",
       "    </tr>\n",
       "    <tr>\n",
       "      <th>974</th>\n",
       "      <td>0</td>\n",
       "      <td>2</td>\n",
       "      <td>0</td>\n",
       "    </tr>\n",
       "    <tr>\n",
       "      <th>975</th>\n",
       "      <td>0</td>\n",
       "      <td>1</td>\n",
       "      <td>0</td>\n",
       "    </tr>\n",
       "    <tr>\n",
       "      <th>976</th>\n",
       "      <td>0</td>\n",
       "      <td>2</td>\n",
       "      <td>0</td>\n",
       "    </tr>\n",
       "    <tr>\n",
       "      <th>977</th>\n",
       "      <td>0</td>\n",
       "      <td>3</td>\n",
       "      <td>1</td>\n",
       "    </tr>\n",
       "    <tr>\n",
       "      <th>978</th>\n",
       "      <td>0</td>\n",
       "      <td>2</td>\n",
       "      <td>0</td>\n",
       "    </tr>\n",
       "    <tr>\n",
       "      <th>979</th>\n",
       "      <td>0</td>\n",
       "      <td>3</td>\n",
       "      <td>1</td>\n",
       "    </tr>\n",
       "    <tr>\n",
       "      <th>980</th>\n",
       "      <td>0</td>\n",
       "      <td>4</td>\n",
       "      <td>0</td>\n",
       "    </tr>\n",
       "    <tr>\n",
       "      <th>981</th>\n",
       "      <td>0</td>\n",
       "      <td>4</td>\n",
       "      <td>0</td>\n",
       "    </tr>\n",
       "    <tr>\n",
       "      <th>982</th>\n",
       "      <td>0</td>\n",
       "      <td>2</td>\n",
       "      <td>0</td>\n",
       "    </tr>\n",
       "    <tr>\n",
       "      <th>983</th>\n",
       "      <td>0</td>\n",
       "      <td>2</td>\n",
       "      <td>0</td>\n",
       "    </tr>\n",
       "    <tr>\n",
       "      <th>984</th>\n",
       "      <td>0</td>\n",
       "      <td>4</td>\n",
       "      <td>0</td>\n",
       "    </tr>\n",
       "    <tr>\n",
       "      <th>985</th>\n",
       "      <td>0</td>\n",
       "      <td>3</td>\n",
       "      <td>1</td>\n",
       "    </tr>\n",
       "    <tr>\n",
       "      <th>986</th>\n",
       "      <td>0</td>\n",
       "      <td>1</td>\n",
       "      <td>0</td>\n",
       "    </tr>\n",
       "    <tr>\n",
       "      <th>987</th>\n",
       "      <td>0</td>\n",
       "      <td>4</td>\n",
       "      <td>0</td>\n",
       "    </tr>\n",
       "    <tr>\n",
       "      <th>988</th>\n",
       "      <td>0</td>\n",
       "      <td>2</td>\n",
       "      <td>0</td>\n",
       "    </tr>\n",
       "    <tr>\n",
       "      <th>989</th>\n",
       "      <td>0</td>\n",
       "      <td>2</td>\n",
       "      <td>0</td>\n",
       "    </tr>\n",
       "    <tr>\n",
       "      <th>990</th>\n",
       "      <td>0</td>\n",
       "      <td>2</td>\n",
       "      <td>0</td>\n",
       "    </tr>\n",
       "    <tr>\n",
       "      <th>991</th>\n",
       "      <td>0</td>\n",
       "      <td>2</td>\n",
       "      <td>0</td>\n",
       "    </tr>\n",
       "    <tr>\n",
       "      <th>992</th>\n",
       "      <td>0</td>\n",
       "      <td>3</td>\n",
       "      <td>1</td>\n",
       "    </tr>\n",
       "    <tr>\n",
       "      <th>993</th>\n",
       "      <td>0</td>\n",
       "      <td>2</td>\n",
       "      <td>0</td>\n",
       "    </tr>\n",
       "    <tr>\n",
       "      <th>994</th>\n",
       "      <td>0</td>\n",
       "      <td>3</td>\n",
       "      <td>1</td>\n",
       "    </tr>\n",
       "    <tr>\n",
       "      <th>995</th>\n",
       "      <td>0</td>\n",
       "      <td>3</td>\n",
       "      <td>1</td>\n",
       "    </tr>\n",
       "    <tr>\n",
       "      <th>996</th>\n",
       "      <td>0</td>\n",
       "      <td>3</td>\n",
       "      <td>1</td>\n",
       "    </tr>\n",
       "    <tr>\n",
       "      <th>997</th>\n",
       "      <td>0</td>\n",
       "      <td>3</td>\n",
       "      <td>1</td>\n",
       "    </tr>\n",
       "    <tr>\n",
       "      <th>998</th>\n",
       "      <td>0</td>\n",
       "      <td>3</td>\n",
       "      <td>1</td>\n",
       "    </tr>\n",
       "    <tr>\n",
       "      <th>999</th>\n",
       "      <td>0</td>\n",
       "      <td>3</td>\n",
       "      <td>1</td>\n",
       "    </tr>\n",
       "  </tbody>\n",
       "</table>\n",
       "<p>1000 rows × 3 columns</p>\n",
       "</div>"
      ],
      "text/plain": [
       "     Creditability  Sex_and_Marital_Status genero_Riesgoso?\n",
       "0                1                       2                0\n",
       "1                1                       3                1\n",
       "2                1                       2                0\n",
       "3                1                       3                1\n",
       "4                1                       3                1\n",
       "5                1                       3                1\n",
       "6                1                       3                1\n",
       "7                1                       3                1\n",
       "8                1                       2                0\n",
       "9                1                       2                0\n",
       "10               1                       3                1\n",
       "11               1                       4                0\n",
       "12               1                       2                0\n",
       "13               1                       3                1\n",
       "14               1                       4                0\n",
       "15               1                       3                1\n",
       "16               1                       3                1\n",
       "17               1                       4                0\n",
       "18               1                       3                1\n",
       "19               1                       3                1\n",
       "20               1                       3                1\n",
       "21               1                       3                1\n",
       "22               0                       3                1\n",
       "23               1                       3                1\n",
       "24               1                       3                1\n",
       "25               1                       3                1\n",
       "26               1                       2                0\n",
       "27               1                       3                1\n",
       "28               1                       3                1\n",
       "29               1                       3                1\n",
       "..             ...                     ...              ...\n",
       "970              0                       3                1\n",
       "971              0                       2                0\n",
       "972              0                       3                1\n",
       "973              0                       3                1\n",
       "974              0                       2                0\n",
       "975              0                       1                0\n",
       "976              0                       2                0\n",
       "977              0                       3                1\n",
       "978              0                       2                0\n",
       "979              0                       3                1\n",
       "980              0                       4                0\n",
       "981              0                       4                0\n",
       "982              0                       2                0\n",
       "983              0                       2                0\n",
       "984              0                       4                0\n",
       "985              0                       3                1\n",
       "986              0                       1                0\n",
       "987              0                       4                0\n",
       "988              0                       2                0\n",
       "989              0                       2                0\n",
       "990              0                       2                0\n",
       "991              0                       2                0\n",
       "992              0                       3                1\n",
       "993              0                       2                0\n",
       "994              0                       3                1\n",
       "995              0                       3                1\n",
       "996              0                       3                1\n",
       "997              0                       3                1\n",
       "998              0                       3                1\n",
       "999              0                       3                1\n",
       "\n",
       "[1000 rows x 3 columns]"
      ]
     },
     "execution_count": 133,
     "metadata": {},
     "output_type": "execute_result"
    }
   ],
   "source": [
    "df[['Creditability', 'Sex_and_Marital_Status', 'genero_Riesgoso?']]"
   ]
  },
  {
   "cell_type": "code",
   "execution_count": 134,
   "metadata": {
    "collapsed": false
   },
   "outputs": [
    {
     "data": {
      "text/html": [
       "<div>\n",
       "<table border=\"1\" class=\"dataframe\">\n",
       "  <thead>\n",
       "    <tr style=\"text-align: right;\">\n",
       "      <th></th>\n",
       "      <th>Creditability</th>\n",
       "      <th>Account Balance</th>\n",
       "      <th>Duration of Credit (month)</th>\n",
       "      <th>Payment Status of Previous Credit</th>\n",
       "      <th>Purpose</th>\n",
       "      <th>Credit Amount</th>\n",
       "      <th>Value Savings/Stocks</th>\n",
       "      <th>Length of current employment</th>\n",
       "      <th>Instalment per cent</th>\n",
       "      <th>Sex_and_Marital_Status</th>\n",
       "      <th>...</th>\n",
       "      <th>Most valuable available asset</th>\n",
       "      <th>Age (years)</th>\n",
       "      <th>Concurrent Credits</th>\n",
       "      <th>Type of apartment</th>\n",
       "      <th>No of Credits at this Bank</th>\n",
       "      <th>Occupation</th>\n",
       "      <th>No of dependents</th>\n",
       "      <th>Telephone</th>\n",
       "      <th>Foreign Worker</th>\n",
       "      <th>genero_Riesgoso?</th>\n",
       "    </tr>\n",
       "  </thead>\n",
       "  <tbody>\n",
       "    <tr>\n",
       "      <th>995</th>\n",
       "      <td>0</td>\n",
       "      <td>1</td>\n",
       "      <td>24</td>\n",
       "      <td>2</td>\n",
       "      <td>3</td>\n",
       "      <td>1987</td>\n",
       "      <td>1</td>\n",
       "      <td>3</td>\n",
       "      <td>2</td>\n",
       "      <td>3</td>\n",
       "      <td>...</td>\n",
       "      <td>1</td>\n",
       "      <td>21</td>\n",
       "      <td>3</td>\n",
       "      <td>1</td>\n",
       "      <td>1</td>\n",
       "      <td>2</td>\n",
       "      <td>2</td>\n",
       "      <td>1</td>\n",
       "      <td>1</td>\n",
       "      <td>1</td>\n",
       "    </tr>\n",
       "    <tr>\n",
       "      <th>996</th>\n",
       "      <td>0</td>\n",
       "      <td>1</td>\n",
       "      <td>24</td>\n",
       "      <td>2</td>\n",
       "      <td>0</td>\n",
       "      <td>2303</td>\n",
       "      <td>1</td>\n",
       "      <td>5</td>\n",
       "      <td>4</td>\n",
       "      <td>3</td>\n",
       "      <td>...</td>\n",
       "      <td>1</td>\n",
       "      <td>45</td>\n",
       "      <td>3</td>\n",
       "      <td>2</td>\n",
       "      <td>1</td>\n",
       "      <td>3</td>\n",
       "      <td>1</td>\n",
       "      <td>1</td>\n",
       "      <td>1</td>\n",
       "      <td>1</td>\n",
       "    </tr>\n",
       "    <tr>\n",
       "      <th>997</th>\n",
       "      <td>0</td>\n",
       "      <td>4</td>\n",
       "      <td>21</td>\n",
       "      <td>4</td>\n",
       "      <td>0</td>\n",
       "      <td>12680</td>\n",
       "      <td>5</td>\n",
       "      <td>5</td>\n",
       "      <td>4</td>\n",
       "      <td>3</td>\n",
       "      <td>...</td>\n",
       "      <td>4</td>\n",
       "      <td>30</td>\n",
       "      <td>3</td>\n",
       "      <td>3</td>\n",
       "      <td>1</td>\n",
       "      <td>4</td>\n",
       "      <td>1</td>\n",
       "      <td>2</td>\n",
       "      <td>1</td>\n",
       "      <td>1</td>\n",
       "    </tr>\n",
       "    <tr>\n",
       "      <th>998</th>\n",
       "      <td>0</td>\n",
       "      <td>2</td>\n",
       "      <td>12</td>\n",
       "      <td>2</td>\n",
       "      <td>3</td>\n",
       "      <td>6468</td>\n",
       "      <td>5</td>\n",
       "      <td>1</td>\n",
       "      <td>2</td>\n",
       "      <td>3</td>\n",
       "      <td>...</td>\n",
       "      <td>4</td>\n",
       "      <td>52</td>\n",
       "      <td>3</td>\n",
       "      <td>2</td>\n",
       "      <td>1</td>\n",
       "      <td>4</td>\n",
       "      <td>1</td>\n",
       "      <td>2</td>\n",
       "      <td>1</td>\n",
       "      <td>1</td>\n",
       "    </tr>\n",
       "    <tr>\n",
       "      <th>999</th>\n",
       "      <td>0</td>\n",
       "      <td>1</td>\n",
       "      <td>30</td>\n",
       "      <td>2</td>\n",
       "      <td>2</td>\n",
       "      <td>6350</td>\n",
       "      <td>5</td>\n",
       "      <td>5</td>\n",
       "      <td>4</td>\n",
       "      <td>3</td>\n",
       "      <td>...</td>\n",
       "      <td>2</td>\n",
       "      <td>31</td>\n",
       "      <td>3</td>\n",
       "      <td>2</td>\n",
       "      <td>1</td>\n",
       "      <td>3</td>\n",
       "      <td>1</td>\n",
       "      <td>1</td>\n",
       "      <td>1</td>\n",
       "      <td>1</td>\n",
       "    </tr>\n",
       "  </tbody>\n",
       "</table>\n",
       "<p>5 rows × 22 columns</p>\n",
       "</div>"
      ],
      "text/plain": [
       "     Creditability  Account Balance  Duration of Credit (month)  \\\n",
       "995              0                1                          24   \n",
       "996              0                1                          24   \n",
       "997              0                4                          21   \n",
       "998              0                2                          12   \n",
       "999              0                1                          30   \n",
       "\n",
       "     Payment Status of Previous Credit  Purpose  Credit Amount  \\\n",
       "995                                  2        3           1987   \n",
       "996                                  2        0           2303   \n",
       "997                                  4        0          12680   \n",
       "998                                  2        3           6468   \n",
       "999                                  2        2           6350   \n",
       "\n",
       "     Value Savings/Stocks  Length of current employment  Instalment per cent  \\\n",
       "995                     1                             3                    2   \n",
       "996                     1                             5                    4   \n",
       "997                     5                             5                    4   \n",
       "998                     5                             1                    2   \n",
       "999                     5                             5                    4   \n",
       "\n",
       "     Sex_and_Marital_Status        ...         Most valuable available asset  \\\n",
       "995                       3        ...                                     1   \n",
       "996                       3        ...                                     1   \n",
       "997                       3        ...                                     4   \n",
       "998                       3        ...                                     4   \n",
       "999                       3        ...                                     2   \n",
       "\n",
       "     Age (years)  Concurrent Credits  Type of apartment  \\\n",
       "995           21                   3                  1   \n",
       "996           45                   3                  2   \n",
       "997           30                   3                  3   \n",
       "998           52                   3                  2   \n",
       "999           31                   3                  2   \n",
       "\n",
       "     No of Credits at this Bank  Occupation  No of dependents  Telephone  \\\n",
       "995                           1           2                 2          1   \n",
       "996                           1           3                 1          1   \n",
       "997                           1           4                 1          2   \n",
       "998                           1           4                 1          2   \n",
       "999                           1           3                 1          1   \n",
       "\n",
       "     Foreign Worker  genero_Riesgoso?  \n",
       "995               1                 1  \n",
       "996               1                 1  \n",
       "997               1                 1  \n",
       "998               1                 1  \n",
       "999               1                 1  \n",
       "\n",
       "[5 rows x 22 columns]"
      ]
     },
     "execution_count": 134,
     "metadata": {},
     "output_type": "execute_result"
    }
   ],
   "source": [
    "#Ahora volvemos a vectorizar y a evaluar, pero con la nueva columna o feature de generos riesgosos\n",
    "new_data = pd.read_csv('/Users/user/Desktop/datos_con_nueva_col.csv')\n",
    "new_data.tail()"
   ]
  },
  {
   "cell_type": "code",
   "execution_count": 135,
   "metadata": {
    "collapsed": true
   },
   "outputs": [],
   "source": [
    "X_feat1 = new_data.drop(\"Creditability\", axis=1).values\n",
    "y_feat1 = new_data.Creditability.values"
   ]
  },
  {
   "cell_type": "code",
   "execution_count": 136,
   "metadata": {
    "collapsed": true
   },
   "outputs": [],
   "source": [
    "#Hay valores nulos o faltantes?\n",
    "#df.apply(lambda x: sum(x.isnull()))"
   ]
  },
  {
   "cell_type": "code",
   "execution_count": 137,
   "metadata": {
    "collapsed": false
   },
   "outputs": [
    {
     "name": "stdout",
     "output_type": "stream",
     "text": [
      "Exactitud 0.82\n",
      "Fold: 1, distribucion de la clase: [208 511], Acc: 0.765\n",
      "Fold: 2, distribucion de la clase: [208 511], Acc: 0.741\n",
      "Fold: 3, distribucion de la clase: [209 511], Acc: 0.838\n",
      "Fold: 4, distribucion de la clase: [209 511], Acc: 0.762\n",
      "Fold: 5, distribucion de la clase: [209 511], Acc: 0.662\n",
      "Fold: 6, distribucion de la clase: [209 511], Acc: 0.750\n",
      "Fold: 7, distribucion de la clase: [209 511], Acc: 0.725\n",
      "Fold: 8, distribucion de la clase: [209 511], Acc: 0.787\n",
      "Fold: 9, distribucion de la clase: [209 512], Acc: 0.797\n",
      "Fold: 10, distribucion de la clase: [209 512], Acc: 0.810\n",
      "\n",
      "CV accuracy: 0.763876777622\n",
      "\n",
      "CV f1-score: 0.843336922736\n",
      "\n",
      "CV presicion: 0.796780835688\n",
      "\n",
      "CV recall: 0.897963659148\n"
     ]
    }
   ],
   "source": [
    "perform_classification(X_feat1, y_feat1)"
   ]
  },
  {
   "cell_type": "markdown",
   "metadata": {},
   "source": [
    "## Selección de caracteristicas\n",
    "### Removiendo features con baja varianza"
   ]
  },
  {
   "cell_type": "code",
   "execution_count": 138,
   "metadata": {
    "collapsed": false
   },
   "outputs": [
    {
     "data": {
      "text/plain": [
       "(1000, 18)"
      ]
     },
     "execution_count": 138,
     "metadata": {},
     "output_type": "execute_result"
    }
   ],
   "source": [
    "from sklearn.feature_selection import VarianceThreshold\n",
    "# sobre la matriz original\n",
    "sel = VarianceThreshold(threshold=(.8 * (1 - .8)))\n",
    "X_low_variance = sel.fit_transform(X)\n",
    "X_low_variance.shape"
   ]
  },
  {
   "cell_type": "code",
   "execution_count": 139,
   "metadata": {
    "collapsed": false
   },
   "outputs": [
    {
     "name": "stdout",
     "output_type": "stream",
     "text": [
      "Exactitud 0.82\n",
      "Fold: 1, distribucion de la clase: [208 511], Acc: 0.753\n",
      "Fold: 2, distribucion de la clase: [208 511], Acc: 0.741\n",
      "Fold: 3, distribucion de la clase: [209 511], Acc: 0.863\n",
      "Fold: 4, distribucion de la clase: [209 511], Acc: 0.800\n",
      "Fold: 5, distribucion de la clase: [209 511], Acc: 0.675\n",
      "Fold: 6, distribucion de la clase: [209 511], Acc: 0.750\n",
      "Fold: 7, distribucion de la clase: [209 511], Acc: 0.738\n",
      "Fold: 8, distribucion de la clase: [209 511], Acc: 0.812\n",
      "Fold: 9, distribucion de la clase: [209 512], Acc: 0.797\n",
      "Fold: 10, distribucion de la clase: [209 512], Acc: 0.823\n",
      "\n",
      "CV accuracy: 0.775158032505\n",
      "\n",
      "CV f1-score: 0.851193402828\n",
      "\n",
      "CV presicion: 0.803327976572\n",
      "\n",
      "CV recall: 0.906735588972\n"
     ]
    }
   ],
   "source": [
    "perform_classification(X_low_variance, y_feat1)\n",
    "#Aqui subio a de .81 a .82"
   ]
  },
  {
   "cell_type": "markdown",
   "metadata": {},
   "source": [
    "## Con Arboles"
   ]
  },
  {
   "cell_type": "code",
   "execution_count": 140,
   "metadata": {
    "collapsed": false
   },
   "outputs": [
    {
     "name": "stdout",
     "output_type": "stream",
     "text": [
      "(1000, 20)\n"
     ]
    },
    {
     "data": {
      "text/plain": [
       "array([ 0.12613907,  0.08228563,  0.05769386,  0.05967873,  0.07547315,\n",
       "        0.05350089,  0.05929689,  0.04640616,  0.03956866,  0.03157755,\n",
       "        0.05154828,  0.05779876,  0.06187946,  0.0310028 ,  0.03228969,\n",
       "        0.03344951,  0.04566913,  0.02167057,  0.02546352,  0.00760769])"
      ]
     },
     "execution_count": 140,
     "metadata": {},
     "output_type": "execute_result"
    }
   ],
   "source": [
    "from sklearn.ensemble import ExtraTreesClassifier\n",
    "from sklearn.datasets import load_iris\n",
    "from sklearn.feature_selection import SelectFromModel\n",
    "print(X.shape)\n",
    "\n",
    "clf = ExtraTreesClassifier()\n",
    "clf = clf.fit(X, y)\n",
    "clf.feature_importances_  \n"
   ]
  },
  {
   "cell_type": "code",
   "execution_count": 141,
   "metadata": {
    "collapsed": false
   },
   "outputs": [
    {
     "data": {
      "text/plain": [
       "(1000, 10)"
      ]
     },
     "execution_count": 141,
     "metadata": {},
     "output_type": "execute_result"
    }
   ],
   "source": [
    "model = SelectFromModel(clf, prefit=True)\n",
    "X_with_tree = model.transform(X)\n",
    "X_with_tree.shape               \n"
   ]
  },
  {
   "cell_type": "code",
   "execution_count": 142,
   "metadata": {
    "collapsed": false
   },
   "outputs": [
    {
     "name": "stdout",
     "output_type": "stream",
     "text": [
      "Exactitud 0.78\n",
      "Fold: 1, distribucion de la clase: [208 511], Acc: 0.790\n",
      "Fold: 2, distribucion de la clase: [208 511], Acc: 0.753\n",
      "Fold: 3, distribucion de la clase: [209 511], Acc: 0.825\n",
      "Fold: 4, distribucion de la clase: [209 511], Acc: 0.775\n",
      "Fold: 5, distribucion de la clase: [209 511], Acc: 0.725\n",
      "Fold: 6, distribucion de la clase: [209 511], Acc: 0.750\n",
      "Fold: 7, distribucion de la clase: [209 511], Acc: 0.713\n",
      "Fold: 8, distribucion de la clase: [209 511], Acc: 0.738\n",
      "Fold: 9, distribucion de la clase: [209 512], Acc: 0.772\n",
      "Fold: 10, distribucion de la clase: [209 512], Acc: 0.785\n",
      "\n",
      "CV accuracy: 0.762517190186\n",
      "\n",
      "CV f1-score: 0.842281816975\n",
      "\n",
      "CV presicion: 0.798649469229\n",
      "\n",
      "CV recall: 0.894266917293\n"
     ]
    }
   ],
   "source": [
    "perform_classification(X_with_tree, y)\n",
    "#No fue buena idea bajo, nos quedamos con la anterior que hasta el momento ha sido la mas alta\n",
    "#X_low_variance"
   ]
  },
  {
   "cell_type": "markdown",
   "metadata": {},
   "source": [
    "## Con selección univarida de caracteristicas (regresa las k mejores características)"
   ]
  },
  {
   "cell_type": "code",
   "execution_count": 143,
   "metadata": {
    "collapsed": false
   },
   "outputs": [
    {
     "data": {
      "text/plain": [
       "(1000, 2)"
      ]
     },
     "execution_count": 143,
     "metadata": {},
     "output_type": "execute_result"
    }
   ],
   "source": [
    "from sklearn.datasets import load_iris\n",
    "from sklearn.feature_selection import SelectKBest\n",
    "from sklearn.feature_selection import chi2\n",
    "X_kbest_feats = SelectKBest(chi2, k=2).fit_transform(X, y)\n",
    "X_kbest_feats.shape"
   ]
  },
  {
   "cell_type": "code",
   "execution_count": 144,
   "metadata": {
    "collapsed": false
   },
   "outputs": [
    {
     "name": "stdout",
     "output_type": "stream",
     "text": [
      "Exactitud 0.675\n",
      "Fold: 1, distribucion de la clase: [208 511], Acc: 0.728\n",
      "Fold: 2, distribucion de la clase: [208 511], Acc: 0.728\n",
      "Fold: 3, distribucion de la clase: [209 511], Acc: 0.688\n",
      "Fold: 4, distribucion de la clase: [209 511], Acc: 0.738\n",
      "Fold: 5, distribucion de la clase: [209 511], Acc: 0.725\n",
      "Fold: 6, distribucion de la clase: [209 511], Acc: 0.762\n",
      "Fold: 7, distribucion de la clase: [209 511], Acc: 0.688\n",
      "Fold: 8, distribucion de la clase: [209 511], Acc: 0.713\n",
      "Fold: 9, distribucion de la clase: [209 512], Acc: 0.785\n",
      "Fold: 10, distribucion de la clase: [209 512], Acc: 0.759\n",
      "\n",
      "CV accuracy: 0.731359392093\n",
      "\n",
      "CV f1-score: 0.831521388325\n",
      "\n",
      "CV presicion: 0.750591797583\n",
      "\n",
      "CV recall: 0.933176691729\n"
     ]
    }
   ],
   "source": [
    "perform_classification(X_kbest_feats, y)"
   ]
  },
  {
   "cell_type": "markdown",
   "metadata": {},
   "source": [
    "## Con PCA"
   ]
  },
  {
   "cell_type": "code",
   "execution_count": 145,
   "metadata": {
    "collapsed": false
   },
   "outputs": [
    {
     "name": "stdout",
     "output_type": "stream",
     "text": [
      "[  9.99970189e-01   1.63787047e-05   1.09773200e-05   9.25511192e-07\n",
      "   3.41920585e-07   2.01780396e-07   1.90290312e-07   1.40272907e-07\n",
      "   1.31663275e-07   1.25395818e-07   1.06243259e-07   6.46908565e-08\n",
      "   5.74597394e-08   4.72993488e-08   2.98590092e-08   2.67436022e-08\n",
      "   2.58079874e-08   2.11450315e-08   1.48832929e-08]\n"
     ]
    }
   ],
   "source": [
    "from sklearn.decomposition import PCA\n",
    "pca = PCA(n_components = 'mle')\n",
    "X_pca =pca.fit_transform(X)\n",
    "PCA(copy=True, n_components='mle', whiten=False)\n",
    "print(pca.explained_variance_ratio_) "
   ]
  },
  {
   "cell_type": "code",
   "execution_count": 146,
   "metadata": {
    "collapsed": false
   },
   "outputs": [
    {
     "name": "stdout",
     "output_type": "stream",
     "text": [
      "Exactitud 0.775\n",
      "Fold: 1, distribucion de la clase: [208 511], Acc: 0.741\n",
      "Fold: 2, distribucion de la clase: [208 511], Acc: 0.741\n",
      "Fold: 3, distribucion de la clase: [209 511], Acc: 0.787\n",
      "Fold: 4, distribucion de la clase: [209 511], Acc: 0.738\n",
      "Fold: 5, distribucion de la clase: [209 511], Acc: 0.738\n",
      "Fold: 6, distribucion de la clase: [209 511], Acc: 0.825\n",
      "Fold: 7, distribucion de la clase: [209 511], Acc: 0.738\n",
      "Fold: 8, distribucion de la clase: [209 511], Acc: 0.750\n",
      "Fold: 9, distribucion de la clase: [209 512], Acc: 0.759\n",
      "Fold: 10, distribucion de la clase: [209 512], Acc: 0.772\n",
      "\n",
      "CV accuracy: 0.75881270511\n",
      "\n",
      "CV f1-score: 0.842401022721\n",
      "\n",
      "CV presicion: 0.787609135998\n",
      "\n",
      "CV recall: 0.908521303258\n"
     ]
    }
   ],
   "source": [
    "perform_classification(X_pca, y)"
   ]
  },
  {
   "cell_type": "markdown",
   "metadata": {},
   "source": [
    "## Con Truncated SVD (LSA)"
   ]
  },
  {
   "cell_type": "code",
   "execution_count": 147,
   "metadata": {
    "collapsed": false
   },
   "outputs": [
    {
     "data": {
      "text/plain": [
       "(1000, 3)"
      ]
     },
     "execution_count": 147,
     "metadata": {},
     "output_type": "execute_result"
    }
   ],
   "source": [
    "from sklearn.decomposition import TruncatedSVD\n",
    "from sklearn.random_projection import sparse_random_matrix\n",
    "#X = sparse_random_matrix(100, 100, density=0.01, random_state=42)\n",
    "svd = TruncatedSVD(n_components=3, random_state=False)\n",
    "X_svd = svd.fit_transform(X) \n",
    "X_svd.shape"
   ]
  },
  {
   "cell_type": "code",
   "execution_count": 148,
   "metadata": {
    "collapsed": false
   },
   "outputs": [
    {
     "name": "stdout",
     "output_type": "stream",
     "text": [
      "Exactitud 0.625\n",
      "Fold: 1, distribucion de la clase: [208 511], Acc: 0.691\n",
      "Fold: 2, distribucion de la clase: [208 511], Acc: 0.667\n",
      "Fold: 3, distribucion de la clase: [209 511], Acc: 0.700\n",
      "Fold: 4, distribucion de la clase: [209 511], Acc: 0.675\n",
      "Fold: 5, distribucion de la clase: [209 511], Acc: 0.662\n",
      "Fold: 6, distribucion de la clase: [209 511], Acc: 0.762\n",
      "Fold: 7, distribucion de la clase: [209 511], Acc: 0.700\n",
      "Fold: 8, distribucion de la clase: [209 511], Acc: 0.725\n",
      "Fold: 9, distribucion de la clase: [209 512], Acc: 0.722\n",
      "Fold: 10, distribucion de la clase: [209 512], Acc: 0.734\n",
      "\n",
      "CV accuracy: 0.703872089389\n",
      "\n",
      "CV f1-score: 0.81864372179\n",
      "\n",
      "CV presicion: 0.72439777268\n",
      "\n",
      "CV recall: 0.942011278195\n"
     ]
    }
   ],
   "source": [
    "perform_classification(X_svd, y)"
   ]
  },
  {
   "cell_type": "markdown",
   "metadata": {},
   "source": [
    "## Nota\n",
    "\n",
    "Al parecer los métodos anteriores fueron muy agresivos, nos quedamos con la matriz `X_low_variance`."
   ]
  },
  {
   "cell_type": "markdown",
   "metadata": {},
   "source": [
    "## GridSearch"
   ]
  },
  {
   "cell_type": "code",
   "execution_count": 150,
   "metadata": {
    "collapsed": false
   },
   "outputs": [
    {
     "name": "stdout",
     "output_type": "stream",
     "text": [
      "\n",
      "Mejor score:\n",
      " 0.7775\n",
      "\n",
      "Mejores hiper-parametros:\n",
      " {'gamma': 0, 'max_depth': 6, 'n_estimators': 1000, 'learning_rate': 0.005, 'colsample_bytree': 0.4, 'subsample': 1}\n",
      "best estimator XGBClassifier(base_score=0.5, colsample_bylevel=1, colsample_bytree=0.4,\n",
      "       gamma=0, learning_rate=0.005, max_delta_step=0, max_depth=6,\n",
      "       min_child_weight=1, missing=None, n_estimators=1000, nthread=-1,\n",
      "       objective='binary:logistic', reg_alpha=0, reg_lambda=1,\n",
      "       scale_pos_weight=1, seed=0, silent=True, subsample=1)\n"
     ]
    }
   ],
   "source": [
    "from sklearn.grid_search import GridSearchCV\n",
    "\n",
    "xgb_model = XGBClassifier()\n",
    "\n",
    "#Un diccionario de hiper parametros para probar\n",
    "parameters = {\n",
    "    'n_estimators': [800, 900, 1000],\n",
    "    'learning_rate': [0.005, 0.05, 0.1, 0.3, .5, 1, 2],\n",
    "    'max_depth': [6, 8, 10],\n",
    "    'subsample': [0.5, .75, 1],\n",
    "    'colsample_bytree': [0.4, .6, .8, 1.0],\n",
    "    'gamma':[0, .1, .5, 1]\n",
    "}\n",
    "\n",
    "X_train, X_test, y_train, y_test = \\\n",
    "train_test_split(X_low_variance, y, test_size=0.20, random_state=False) \n",
    "\n",
    "clf_grid = GridSearchCV(xgb_model, parameters, verbose=0, n_jobs=-1, scoring='accuracy')\n",
    "clf_grid.fit(X_train, y_train)\n",
    "\n",
    "\n",
    "#print('\\nGrid scores:',clf.grid_scores_)\n",
    "print ('\\nMejor score:\\n', clf_grid.best_score_)\n",
    "print ('\\nMejores hiper-parametros:\\n', clf_grid.best_params_)\n",
    "print ('best estimator',clf_grid.best_estimator_)"
   ]
  },
  {
   "cell_type": "markdown",
   "metadata": {},
   "source": [
    "# Con algoritmos geneticos (Tpot)\n",
    "\n"
   ]
  },
  {
   "cell_type": "code",
   "execution_count": null,
   "metadata": {
    "collapsed": false
   },
   "outputs": [],
   "source": [
    "from tpot import TPOT\n",
    "\n",
    "X_train, X_test, y_train, y_test =train_test_split(\n",
    "    X_low_variance, y, test_size=0.20, random_state=False) \n",
    "\n",
    "tpot = TPOT(generations=5)\n",
    "\n",
    "tpot.fit(X_train,y_train)\n",
    "print(tpot.score(X_test,y_test))\n",
    "tpot.export(('/Users/user/Desktop/t_pot_pipeline_loan.py'))"
   ]
  },
  {
   "cell_type": "markdown",
   "metadata": {},
   "source": [
    "## Conclusión 1\n",
    "\n",
    "Al parecer nos conviene quedarnos con la matriz de baja varianza (`X_low_variance`). Veamos como se comporta, revisemos su **matriz de confusión**:\n"
   ]
  },
  {
   "cell_type": "code",
   "execution_count": 81,
   "metadata": {
    "collapsed": false
   },
   "outputs": [
    {
     "name": "stdout",
     "output_type": "stream",
     "text": [
      "Exactitud 0.82\n"
     ]
    }
   ],
   "source": [
    "import matplotlib.pyplot as plt\n",
    "from sklearn.metrics import confusion_matrix\n",
    "\n",
    "X_train, X_test, y_train, y_test = train_test_split(X_low_variance, y, test_size=0.20, random_state=False)\n",
    "    \n",
    "best_pipe = make_pipeline(XGBClassifier())\n",
    "best_pipe.fit(X_train, y_train)\n",
    "y_pred = best_pipe.predict(X_test)\n",
    "print('Exactitud', best_pipe.score(X_test, y_test))"
   ]
  },
  {
   "cell_type": "code",
   "execution_count": 82,
   "metadata": {
    "collapsed": false
   },
   "outputs": [
    {
     "data": {
      "image/png": "[encoded data removed]",
      "text/plain": [
       "<matplotlib.figure.Figure at 0x108a314a8>"
      ]
     },
     "metadata": {},
     "output_type": "display_data"
    }
   ],
   "source": [
    "confusion_mat=confusion_matrix(y_pred, y_test)\n",
    "norm_conf = []\n",
    "for i in confusion_mat:\n",
    "    a = 0\n",
    "    tmp_arr = []\n",
    "    a = sum(i, 0)\n",
    "    for j in i:\n",
    "        tmp_arr.append(float(j)/float(a))\n",
    "    norm_conf.append(tmp_arr)\n",
    "\n",
    "fig = plt.figure(figsize=(6, 6))\n",
    "plt.clf()\n",
    "ax = fig.add_subplot(111)\n",
    "\n",
    "ax.set_aspect(1)\n",
    "res = ax.imshow(np.array(norm_conf), cmap=plt.cm.jet, \n",
    "                interpolation='nearest')\n",
    "\n",
    "width, height = confusion_mat.shape\n",
    "\n",
    "for x in range(width):\n",
    "    for y in range(height):\n",
    "        ax.annotate(str(confusion_mat[x][y]), xy=(y, x), \n",
    "                    horizontalalignment='center',\n",
    "                    verticalalignment='center')\n",
    "\n",
    "cb = fig.colorbar(res)\n",
    "alphabet = df.Creditability.unique()\n",
    "plt.xticks(range(width), alphabet[:width])\n",
    "plt.yticks(range(height), alphabet[:height])\n",
    "plt.savefig('/Users/user/Desktop/loan_cf_mat.png', format='png')"
   ]
  },
  {
   "cell_type": "markdown",
   "metadata": {
    "collapsed": true
   },
   "source": [
    "## Serializando y guardando el modelo que aprendimos\n",
    "\n",
    "Una vez que entrenamos y logramos el rendiemiento deseado, serializaremos el modelo para poder usarlo solo para predecir nuevas instancias de datos nunca antes vistas (i.e. predecir si pagan o no pagan nuevos clientes). \n",
    "\n",
    "Al no tener más datos tomaré una muestra aleatoria a partir de nuestro dataset solo con la finalidad de mostrar como se haría en un ambiente más real.\n"
   ]
  },
  {
   "cell_type": "code",
   "execution_count": 91,
   "metadata": {
    "collapsed": false
   },
   "outputs": [
    {
     "data": {
      "text/plain": [
       "array([[1, 18, 4, ..., 2, 1, '0'],\n",
       "       [1, 12, 2, ..., 2, 1, '0'],\n",
       "       [2, 12, 2, ..., 1, 1, '0'],\n",
       "       ..., \n",
       "       [3, 10, 2, ..., 1, 1, '1'],\n",
       "       [4, 24, 4, ..., 1, 1, '1'],\n",
       "       [3, 12, 1, ..., 1, 1, '0']], dtype=object)"
      ]
     },
     "execution_count": 91,
     "metadata": {},
     "output_type": "execute_result"
    }
   ],
   "source": [
    "#primero extraemos una muestra, aleatoriamente \n",
    "#extraemos el 20% de datos del dataframe\n",
    "df_test = df.sample(frac=0.2, random_state=0)\n",
    "df_test.head(3)\n",
    "#Generamos nuesra X\n",
    "X_random_sample_test = df_test.drop('Creditability', axis=1).values\n",
    "X_random_sample_test"
   ]
  },
  {
   "cell_type": "code",
   "execution_count": 86,
   "metadata": {
    "collapsed": false
   },
   "outputs": [
    {
     "data": {
      "text/plain": [
       "['/Users/user/Desktop/loan_prediction_model.pkl',\n",
       " '/Users/user/Desktop/loan_prediction_model.pkl_01.npy']"
      ]
     },
     "execution_count": 86,
     "metadata": {},
     "output_type": "execute_result"
    }
   ],
   "source": [
    "#lo guardamos\n",
    "from sklearn.externals import joblib\n",
    "joblib.dump(best_pipe,'/Users/user/Desktop/loan_prediction_model.pkl') "
   ]
  },
  {
   "cell_type": "code",
   "execution_count": 95,
   "metadata": {
    "collapsed": false
   },
   "outputs": [],
   "source": [
    "#y lo vovlemos a cargar\n",
    "serialized_clf = joblib.load('/Users/user/Desktop/loan_prediction_model.pkl') \n",
    "#clasificamos ya con el modelo entrenado\n",
    "predictions = serialized_clf.predict(X_random_sample_test)"
   ]
  },
  {
   "cell_type": "code",
   "execution_count": 99,
   "metadata": {
    "collapsed": false
   },
   "outputs": [
    {
     "data": {
      "text/html": [
       "<div>\n",
       "<table border=\"1\" class=\"dataframe\">\n",
       "  <thead>\n",
       "    <tr style=\"text-align: right;\">\n",
       "      <th></th>\n",
       "      <th>Creditability</th>\n",
       "      <th>predictions</th>\n",
       "    </tr>\n",
       "  </thead>\n",
       "  <tbody>\n",
       "    <tr>\n",
       "      <th>993</th>\n",
       "      <td>0</td>\n",
       "      <td>1</td>\n",
       "    </tr>\n",
       "    <tr>\n",
       "      <th>859</th>\n",
       "      <td>0</td>\n",
       "      <td>0</td>\n",
       "    </tr>\n",
       "    <tr>\n",
       "      <th>298</th>\n",
       "      <td>1</td>\n",
       "      <td>1</td>\n",
       "    </tr>\n",
       "    <tr>\n",
       "      <th>553</th>\n",
       "      <td>1</td>\n",
       "      <td>1</td>\n",
       "    </tr>\n",
       "    <tr>\n",
       "      <th>672</th>\n",
       "      <td>1</td>\n",
       "      <td>1</td>\n",
       "    </tr>\n",
       "    <tr>\n",
       "      <th>971</th>\n",
       "      <td>0</td>\n",
       "      <td>0</td>\n",
       "    </tr>\n",
       "    <tr>\n",
       "      <th>27</th>\n",
       "      <td>1</td>\n",
       "      <td>1</td>\n",
       "    </tr>\n",
       "    <tr>\n",
       "      <th>231</th>\n",
       "      <td>1</td>\n",
       "      <td>1</td>\n",
       "    </tr>\n",
       "    <tr>\n",
       "      <th>306</th>\n",
       "      <td>1</td>\n",
       "      <td>1</td>\n",
       "    </tr>\n",
       "    <tr>\n",
       "      <th>706</th>\n",
       "      <td>1</td>\n",
       "      <td>1</td>\n",
       "    </tr>\n",
       "    <tr>\n",
       "      <th>496</th>\n",
       "      <td>1</td>\n",
       "      <td>1</td>\n",
       "    </tr>\n",
       "    <tr>\n",
       "      <th>558</th>\n",
       "      <td>1</td>\n",
       "      <td>1</td>\n",
       "    </tr>\n",
       "    <tr>\n",
       "      <th>784</th>\n",
       "      <td>0</td>\n",
       "      <td>0</td>\n",
       "    </tr>\n",
       "    <tr>\n",
       "      <th>239</th>\n",
       "      <td>1</td>\n",
       "      <td>1</td>\n",
       "    </tr>\n",
       "    <tr>\n",
       "      <th>578</th>\n",
       "      <td>0</td>\n",
       "      <td>1</td>\n",
       "    </tr>\n",
       "    <tr>\n",
       "      <th>55</th>\n",
       "      <td>1</td>\n",
       "      <td>1</td>\n",
       "    </tr>\n",
       "    <tr>\n",
       "      <th>906</th>\n",
       "      <td>0</td>\n",
       "      <td>0</td>\n",
       "    </tr>\n",
       "    <tr>\n",
       "      <th>175</th>\n",
       "      <td>1</td>\n",
       "      <td>1</td>\n",
       "    </tr>\n",
       "    <tr>\n",
       "      <th>14</th>\n",
       "      <td>1</td>\n",
       "      <td>1</td>\n",
       "    </tr>\n",
       "    <tr>\n",
       "      <th>77</th>\n",
       "      <td>1</td>\n",
       "      <td>1</td>\n",
       "    </tr>\n",
       "    <tr>\n",
       "      <th>31</th>\n",
       "      <td>1</td>\n",
       "      <td>1</td>\n",
       "    </tr>\n",
       "    <tr>\n",
       "      <th>481</th>\n",
       "      <td>1</td>\n",
       "      <td>1</td>\n",
       "    </tr>\n",
       "    <tr>\n",
       "      <th>310</th>\n",
       "      <td>1</td>\n",
       "      <td>1</td>\n",
       "    </tr>\n",
       "    <tr>\n",
       "      <th>311</th>\n",
       "      <td>1</td>\n",
       "      <td>1</td>\n",
       "    </tr>\n",
       "    <tr>\n",
       "      <th>883</th>\n",
       "      <td>0</td>\n",
       "      <td>0</td>\n",
       "    </tr>\n",
       "    <tr>\n",
       "      <th>788</th>\n",
       "      <td>0</td>\n",
       "      <td>1</td>\n",
       "    </tr>\n",
       "    <tr>\n",
       "      <th>45</th>\n",
       "      <td>0</td>\n",
       "      <td>0</td>\n",
       "    </tr>\n",
       "    <tr>\n",
       "      <th>103</th>\n",
       "      <td>1</td>\n",
       "      <td>1</td>\n",
       "    </tr>\n",
       "    <tr>\n",
       "      <th>760</th>\n",
       "      <td>0</td>\n",
       "      <td>0</td>\n",
       "    </tr>\n",
       "    <tr>\n",
       "      <th>1</th>\n",
       "      <td>1</td>\n",
       "      <td>1</td>\n",
       "    </tr>\n",
       "    <tr>\n",
       "      <th>...</th>\n",
       "      <td>...</td>\n",
       "      <td>...</td>\n",
       "    </tr>\n",
       "    <tr>\n",
       "      <th>945</th>\n",
       "      <td>0</td>\n",
       "      <td>0</td>\n",
       "    </tr>\n",
       "    <tr>\n",
       "      <th>795</th>\n",
       "      <td>0</td>\n",
       "      <td>0</td>\n",
       "    </tr>\n",
       "    <tr>\n",
       "      <th>145</th>\n",
       "      <td>1</td>\n",
       "      <td>1</td>\n",
       "    </tr>\n",
       "    <tr>\n",
       "      <th>826</th>\n",
       "      <td>0</td>\n",
       "      <td>0</td>\n",
       "    </tr>\n",
       "    <tr>\n",
       "      <th>492</th>\n",
       "      <td>1</td>\n",
       "      <td>1</td>\n",
       "    </tr>\n",
       "    <tr>\n",
       "      <th>751</th>\n",
       "      <td>0</td>\n",
       "      <td>0</td>\n",
       "    </tr>\n",
       "    <tr>\n",
       "      <th>240</th>\n",
       "      <td>1</td>\n",
       "      <td>1</td>\n",
       "    </tr>\n",
       "    <tr>\n",
       "      <th>648</th>\n",
       "      <td>1</td>\n",
       "      <td>1</td>\n",
       "    </tr>\n",
       "    <tr>\n",
       "      <th>886</th>\n",
       "      <td>0</td>\n",
       "      <td>1</td>\n",
       "    </tr>\n",
       "    <tr>\n",
       "      <th>144</th>\n",
       "      <td>1</td>\n",
       "      <td>1</td>\n",
       "    </tr>\n",
       "    <tr>\n",
       "      <th>767</th>\n",
       "      <td>0</td>\n",
       "      <td>0</td>\n",
       "    </tr>\n",
       "    <tr>\n",
       "      <th>999</th>\n",
       "      <td>0</td>\n",
       "      <td>1</td>\n",
       "    </tr>\n",
       "    <tr>\n",
       "      <th>467</th>\n",
       "      <td>1</td>\n",
       "      <td>1</td>\n",
       "    </tr>\n",
       "    <tr>\n",
       "      <th>315</th>\n",
       "      <td>1</td>\n",
       "      <td>1</td>\n",
       "    </tr>\n",
       "    <tr>\n",
       "      <th>989</th>\n",
       "      <td>0</td>\n",
       "      <td>0</td>\n",
       "    </tr>\n",
       "    <tr>\n",
       "      <th>922</th>\n",
       "      <td>0</td>\n",
       "      <td>0</td>\n",
       "    </tr>\n",
       "    <tr>\n",
       "      <th>717</th>\n",
       "      <td>0</td>\n",
       "      <td>1</td>\n",
       "    </tr>\n",
       "    <tr>\n",
       "      <th>458</th>\n",
       "      <td>1</td>\n",
       "      <td>1</td>\n",
       "    </tr>\n",
       "    <tr>\n",
       "      <th>773</th>\n",
       "      <td>0</td>\n",
       "      <td>0</td>\n",
       "    </tr>\n",
       "    <tr>\n",
       "      <th>204</th>\n",
       "      <td>1</td>\n",
       "      <td>1</td>\n",
       "    </tr>\n",
       "    <tr>\n",
       "      <th>834</th>\n",
       "      <td>0</td>\n",
       "      <td>1</td>\n",
       "    </tr>\n",
       "    <tr>\n",
       "      <th>832</th>\n",
       "      <td>0</td>\n",
       "      <td>1</td>\n",
       "    </tr>\n",
       "    <tr>\n",
       "      <th>435</th>\n",
       "      <td>1</td>\n",
       "      <td>1</td>\n",
       "    </tr>\n",
       "    <tr>\n",
       "      <th>5</th>\n",
       "      <td>1</td>\n",
       "      <td>1</td>\n",
       "    </tr>\n",
       "    <tr>\n",
       "      <th>769</th>\n",
       "      <td>0</td>\n",
       "      <td>0</td>\n",
       "    </tr>\n",
       "    <tr>\n",
       "      <th>679</th>\n",
       "      <td>1</td>\n",
       "      <td>1</td>\n",
       "    </tr>\n",
       "    <tr>\n",
       "      <th>722</th>\n",
       "      <td>1</td>\n",
       "      <td>1</td>\n",
       "    </tr>\n",
       "    <tr>\n",
       "      <th>215</th>\n",
       "      <td>1</td>\n",
       "      <td>1</td>\n",
       "    </tr>\n",
       "    <tr>\n",
       "      <th>653</th>\n",
       "      <td>1</td>\n",
       "      <td>1</td>\n",
       "    </tr>\n",
       "    <tr>\n",
       "      <th>150</th>\n",
       "      <td>1</td>\n",
       "      <td>1</td>\n",
       "    </tr>\n",
       "  </tbody>\n",
       "</table>\n",
       "<p>200 rows × 2 columns</p>\n",
       "</div>"
      ],
      "text/plain": [
       "     Creditability  predictions\n",
       "993              0            1\n",
       "859              0            0\n",
       "298              1            1\n",
       "553              1            1\n",
       "672              1            1\n",
       "971              0            0\n",
       "27               1            1\n",
       "231              1            1\n",
       "306              1            1\n",
       "706              1            1\n",
       "496              1            1\n",
       "558              1            1\n",
       "784              0            0\n",
       "239              1            1\n",
       "578              0            1\n",
       "55               1            1\n",
       "906              0            0\n",
       "175              1            1\n",
       "14               1            1\n",
       "77               1            1\n",
       "31               1            1\n",
       "481              1            1\n",
       "310              1            1\n",
       "311              1            1\n",
       "883              0            0\n",
       "788              0            1\n",
       "45               0            0\n",
       "103              1            1\n",
       "760              0            0\n",
       "1                1            1\n",
       "..             ...          ...\n",
       "945              0            0\n",
       "795              0            0\n",
       "145              1            1\n",
       "826              0            0\n",
       "492              1            1\n",
       "751              0            0\n",
       "240              1            1\n",
       "648              1            1\n",
       "886              0            1\n",
       "144              1            1\n",
       "767              0            0\n",
       "999              0            1\n",
       "467              1            1\n",
       "315              1            1\n",
       "989              0            0\n",
       "922              0            0\n",
       "717              0            1\n",
       "458              1            1\n",
       "773              0            0\n",
       "204              1            1\n",
       "834              0            1\n",
       "832              0            1\n",
       "435              1            1\n",
       "5                1            1\n",
       "769              0            0\n",
       "679              1            1\n",
       "722              1            1\n",
       "215              1            1\n",
       "653              1            1\n",
       "150              1            1\n",
       "\n",
       "[200 rows x 2 columns]"
      ]
     },
     "execution_count": 99,
     "metadata": {},
     "output_type": "execute_result"
    }
   ],
   "source": [
    "df_test['predictions'] = predictions\n",
    "df_test[['Creditability', 'predictions']]"
   ]
  },
  {
   "cell_type": "markdown",
   "metadata": {},
   "source": [
    "# Extra\n",
    "## Con Keras (deep learning)"
   ]
  },
  {
   "cell_type": "code",
   "execution_count": null,
   "metadata": {
    "collapsed": false
   },
   "outputs": [],
   "source": [
    "from keras.models import Sequential\n",
    "from sklearn.cross_validation import StratifiedKFold\n",
    "import numpy\n",
    "from keras.layers import Dense\n",
    "# fijamos para reproductibilidad\n",
    "seed = 7\n",
    "numpy.random.seed(seed)\n",
    "\n",
    "kfold = StratifiedKFold(y=y, n_folds=10, shuffle=True, random_state=seed)\n",
    "cvscores = []\n",
    "for i, (train, test) in enumerate(kfold):\n",
    "    # instaciamos el modelo\n",
    "    model = Sequential()\n",
    "    model.add(Dense(12, input_dim=20, init='uniform', activation='relu'))\n",
    "    model.add(Dense(20, init='uniform', activation='relu'))\n",
    "    model.add(Dense(1, init='uniform', activation='sigmoid'))\n",
    "    # compilamos el modelo\n",
    "    model.compile(loss='binary_crossentropy', optimizer='adam', metrics=['accuracy'])\n",
    "    # hacemos fit\n",
    "    model.fit(X[train], y[train], nb_epoch=150, batch_size=10, verbose=0)\n",
    "    #evaluacion\n",
    "    scores = model.evaluate(X[test], y[test], verbose=0)\n",
    "    print(\"%s: %.2f%%\" % (model.metrics_names[1], scores[1]*100))\n",
    "    cvscores.append(scores[1] * 100)\n",
    "\n",
    "print (\"%.2f%% (+/- %.2f%%)\" % (numpy.mean(cvscores), numpy.std(cvscores)))"
   ]
  },
  {
   "cell_type": "code",
   "execution_count": null,
   "metadata": {
    "collapsed": true
   },
   "outputs": [],
   "source": []
  }
 ],
 "metadata": {
  "kernelspec": {
   "display_name": "Python 3",
   "language": "python",
   "name": "python3"
  },
  "language_info": {
   "codemirror_mode": {
    "name": "ipython",
    "version": 3
   },
   "file_extension": ".py",
   "mimetype": "text/x-python",
   "name": "python",
   "nbconvert_exporter": "python",
   "pygments_lexer": "ipython3",
   "version": "3.5.2"
  }
 },
 "nbformat": 4,
 "nbformat_minor": 0
}
